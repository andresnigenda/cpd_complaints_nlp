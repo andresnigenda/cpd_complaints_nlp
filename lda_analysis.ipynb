{
  "nbformat": 4,
  "nbformat_minor": 0,
  "metadata": {
    "colab": {
      "name": "lda_analysis.ipynb",
      "provenance": [],
      "collapsed_sections": [],
      "authorship_tag": "ABX9TyNEs4uU6cGjBQHNVk8oecjI",
      "include_colab_link": true
    },
    "kernelspec": {
      "name": "python3",
      "display_name": "Python 3"
    }
  },
  "cells": [
    {
      "cell_type": "markdown",
      "metadata": {
        "id": "view-in-github",
        "colab_type": "text"
      },
      "source": [
        "<a href=\"https://colab.research.google.com/github/andresnigenda/cpd_complaints_nlp/blob/andres/lda_analysis.ipynb\" target=\"_parent\"><img src=\"https://colab.research.google.com/assets/colab-badge.svg\" alt=\"Open In Colab\"/></a>"
      ]
    },
    {
      "cell_type": "markdown",
      "metadata": {
        "id": "DG7Wsr5JR_ZW",
        "colab_type": "text"
      },
      "source": [
        "# **LDA of complaints against the CPD**"
      ]
    },
    {
      "cell_type": "markdown",
      "metadata": {
        "id": "TZKVIPm4RgZq",
        "colab_type": "text"
      },
      "source": [
        "### *Importing Packages*"
      ]
    },
    {
      "cell_type": "code",
      "metadata": {
        "id": "PdsgV4neHweG",
        "colab_type": "code",
        "colab": {}
      },
      "source": [
        "from sklearn.feature_extraction.text import CountVectorizer\n",
        "from sklearn.decomposition import LatentDirichletAllocation\n",
        "from sklearn.feature_extraction import text \n",
        "from spacy.tokenizer import Tokenizer\n",
        "from spacy.lang.en import English\n",
        "from collections import Counter\n",
        "import pandas as pd"
      ],
      "execution_count": 0,
      "outputs": []
    },
    {
      "cell_type": "markdown",
      "metadata": {
        "id": "ffM_7r46SvlL",
        "colab_type": "text"
      },
      "source": [
        "### *Pre-processing*\n",
        "0. Set up allegations data from csv\n",
        "1. Convert data to lowercase\n",
        "2. Remove special characters (punctuation and numbers)\n",
        "3. Tokenize into terms\n",
        "4. Remove stop words (generic + allegation specific)\n",
        "5. Stemming\n",
        "6. Term document matrix\n"
      ]
    },
    {
      "cell_type": "code",
      "metadata": {
        "id": "cbUzq1roSvBU",
        "colab_type": "code",
        "colab": {
          "base_uri": "https://localhost:8080/",
          "height": 241
        },
        "outputId": "2cc497c6-331d-4d64-fd93-6895687509b4"
      },
      "source": [
        "# Setting up our data\n",
        "# read in csv\n",
        "narratives_csv_url = \"https://raw.githubusercontent.com/andresnigenda/cpd_complaints_nlp/andres/narratives.csv\"\n",
        "df = pd.read_csv(narratives_csv_url)\n",
        "# filter to relevant section\n",
        "df = df[df.column_name == \"Initial / Intake Allegation\"]\n",
        "# filter to relevant columns\n",
        "df = df[['cr_id', 'text']]\n",
        "print(\"There are {} complaints\".format(df.shape[0]))\n",
        "# drop allegations with same id + text\n",
        "df = df.drop_duplicates(['cr_id', 'text'])\n",
        "print(\"There are {} unique complaints\".format(df.shape[0]))\n",
        "allegations_lst = df['text'].to_list()\n",
        "df.head()"
      ],
      "execution_count": 13,
      "outputs": [
        {
          "output_type": "stream",
          "text": [
            "There are 19966 complaints\n",
            "There are 17001 unique complaints\n"
          ],
          "name": "stdout"
        },
        {
          "output_type": "execute_result",
          "data": {
            "text/html": [
              "<div>\n",
              "<style scoped>\n",
              "    .dataframe tbody tr th:only-of-type {\n",
              "        vertical-align: middle;\n",
              "    }\n",
              "\n",
              "    .dataframe tbody tr th {\n",
              "        vertical-align: top;\n",
              "    }\n",
              "\n",
              "    .dataframe thead th {\n",
              "        text-align: right;\n",
              "    }\n",
              "</style>\n",
              "<table border=\"1\" class=\"dataframe\">\n",
              "  <thead>\n",
              "    <tr style=\"text-align: right;\">\n",
              "      <th></th>\n",
              "      <th>cr_id</th>\n",
              "      <th>text</th>\n",
              "    </tr>\n",
              "  </thead>\n",
              "  <tbody>\n",
              "    <tr>\n",
              "      <th>0</th>\n",
              "      <td>1048960</td>\n",
              "      <td>The reporting party alleges that the\\naccused ...</td>\n",
              "    </tr>\n",
              "    <tr>\n",
              "      <th>4</th>\n",
              "      <td>1048962</td>\n",
              "      <td>The victim alleges that an unknown male\\nblack...</td>\n",
              "    </tr>\n",
              "    <tr>\n",
              "      <th>9</th>\n",
              "      <td>1048964</td>\n",
              "      <td>The reporting party alleges that he was a\\nvi...</td>\n",
              "    </tr>\n",
              "    <tr>\n",
              "      <th>12</th>\n",
              "      <td>1048965</td>\n",
              "      <td>The reporting party alleges that while\\nwaitin...</td>\n",
              "    </tr>\n",
              "    <tr>\n",
              "      <th>14</th>\n",
              "      <td>1048965</td>\n",
              "      <td>The reporting party alleges that while\\nwaitin...</td>\n",
              "    </tr>\n",
              "  </tbody>\n",
              "</table>\n",
              "</div>"
            ],
            "text/plain": [
              "      cr_id                                               text\n",
              "0   1048960  The reporting party alleges that the\\naccused ...\n",
              "4   1048962  The victim alleges that an unknown male\\nblack...\n",
              "9   1048964   The reporting party alleges that he was a\\nvi...\n",
              "12  1048965  The reporting party alleges that while\\nwaitin...\n",
              "14  1048965  The reporting party alleges that while\\nwaitin..."
            ]
          },
          "metadata": {
            "tags": []
          },
          "execution_count": 13
        }
      ]
    },
    {
      "cell_type": "code",
      "metadata": {
        "id": "N0UnBQTJSsTE",
        "colab_type": "code",
        "colab": {
          "base_uri": "https://localhost:8080/",
          "height": 206
        },
        "outputId": "d4d39686-2f3e-4c08-cf1e-d843a7034b18"
      },
      "source": [
        ""
      ],
      "execution_count": 10,
      "outputs": [
        {
          "output_type": "execute_result",
          "data": {
            "text/html": [
              "<div>\n",
              "<style scoped>\n",
              "    .dataframe tbody tr th:only-of-type {\n",
              "        vertical-align: middle;\n",
              "    }\n",
              "\n",
              "    .dataframe tbody tr th {\n",
              "        vertical-align: top;\n",
              "    }\n",
              "\n",
              "    .dataframe thead th {\n",
              "        text-align: right;\n",
              "    }\n",
              "</style>\n",
              "<table border=\"1\" class=\"dataframe\">\n",
              "  <thead>\n",
              "    <tr style=\"text-align: right;\">\n",
              "      <th></th>\n",
              "      <th>cr_id</th>\n",
              "      <th>text</th>\n",
              "    </tr>\n",
              "  </thead>\n",
              "  <tbody>\n",
              "    <tr>\n",
              "      <th>0</th>\n",
              "      <td>1048960</td>\n",
              "      <td>The reporting party alleges that the\\naccused ...</td>\n",
              "    </tr>\n",
              "    <tr>\n",
              "      <th>4</th>\n",
              "      <td>1048962</td>\n",
              "      <td>The victim alleges that an unknown male\\nblack...</td>\n",
              "    </tr>\n",
              "    <tr>\n",
              "      <th>9</th>\n",
              "      <td>1048964</td>\n",
              "      <td>The reporting party alleges that he was a\\nvi...</td>\n",
              "    </tr>\n",
              "    <tr>\n",
              "      <th>12</th>\n",
              "      <td>1048965</td>\n",
              "      <td>The reporting party alleges that while\\nwaitin...</td>\n",
              "    </tr>\n",
              "    <tr>\n",
              "      <th>14</th>\n",
              "      <td>1048965</td>\n",
              "      <td>The reporting party alleges that while\\nwaitin...</td>\n",
              "    </tr>\n",
              "  </tbody>\n",
              "</table>\n",
              "</div>"
            ],
            "text/plain": [
              "      cr_id                                               text\n",
              "0   1048960  The reporting party alleges that the\\naccused ...\n",
              "4   1048962  The victim alleges that an unknown male\\nblack...\n",
              "9   1048964   The reporting party alleges that he was a\\nvi...\n",
              "12  1048965  The reporting party alleges that while\\nwaitin...\n",
              "14  1048965  The reporting party alleges that while\\nwaitin..."
            ]
          },
          "metadata": {
            "tags": []
          },
          "execution_count": 10
        }
      ]
    }
  ]
}