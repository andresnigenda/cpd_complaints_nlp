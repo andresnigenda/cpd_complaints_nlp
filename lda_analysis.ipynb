{
  "nbformat": 4,
  "nbformat_minor": 0,
  "metadata": {
    "colab": {
      "name": "lda_analysis.ipynb",
      "provenance": [],
      "collapsed_sections": [],
      "authorship_tag": "ABX9TyNFDI+x9AhbqIZbRu4gqAGC",
      "include_colab_link": true
    },
    "kernelspec": {
      "name": "python3",
      "display_name": "Python 3"
    }
  },
  "cells": [
    {
      "cell_type": "markdown",
      "metadata": {
        "id": "view-in-github",
        "colab_type": "text"
      },
      "source": [
        "<a href=\"https://colab.research.google.com/github/andresnigenda/cpd_complaints_nlp/blob/andres/lda_analysis.ipynb\" target=\"_parent\"><img src=\"https://colab.research.google.com/assets/colab-badge.svg\" alt=\"Open In Colab\"/></a>"
      ]
    },
    {
      "cell_type": "markdown",
      "metadata": {
        "id": "DG7Wsr5JR_ZW",
        "colab_type": "text"
      },
      "source": [
        "# **LDA of complaints against the CPD**"
      ]
    },
    {
      "cell_type": "markdown",
      "metadata": {
        "id": "TZKVIPm4RgZq",
        "colab_type": "text"
      },
      "source": [
        "### *Importing Packages*"
      ]
    },
    {
      "cell_type": "code",
      "metadata": {
        "id": "PdsgV4neHweG",
        "colab_type": "code",
        "colab": {}
      },
      "source": [
        "from sklearn.feature_extraction.text import CountVectorizer\n",
        "from sklearn.decomposition import LatentDirichletAllocation\n",
        "from sklearn.feature_extraction import text \n",
        "from spacy.tokenizer import Tokenizer\n",
        "from spacy.lang.en import English\n",
        "from collections import Counter\n",
        "import pandas as pd\n",
        "import altair as alt\n",
        "import numpy as np\n",
        "import re"
      ],
      "execution_count": 0,
      "outputs": []
    },
    {
      "cell_type": "markdown",
      "metadata": {
        "id": "ffM_7r46SvlL",
        "colab_type": "text"
      },
      "source": [
        "### *Pre-processing*\n",
        "0. Set up allegations data from csv\n",
        "1. Convert data to lowercase\n",
        "2. Remove special characters (punctuation and numbers)\n",
        "3. Tokenize into terms\n",
        "4. Remove stop words (generic + allegation specific)\n",
        "5. Stemming\n",
        "6. Term document matrix\n"
      ]
    },
    {
      "cell_type": "code",
      "metadata": {
        "id": "cbUzq1roSvBU",
        "colab_type": "code",
        "colab": {
          "base_uri": "https://localhost:8080/",
          "height": 242
        },
        "outputId": "91c67fc8-a345-4728-f846-2efa0a0ced25"
      },
      "source": [
        "# 0. Set up allegations data from csv #\n",
        "#\n",
        "# read in csv\n",
        "narratives_csv_url = \"https://raw.githubusercontent.com/andresnigenda/cpd_complaints_nlp/andres/narratives.csv\"\n",
        "df = pd.read_csv(narratives_csv_url)\n",
        "# filter to relevant section\n",
        "df = df[df.column_name == \"Initial / Intake Allegation\"]\n",
        "# filter to relevant columns\n",
        "df = df[['cr_id', 'text']]\n",
        "print(\"There are {} complaints\".format(df.shape[0]))\n",
        "# drop allegations with same id + text\n",
        "df = df.drop_duplicates(['cr_id', 'text'])\n",
        "print(\"There are {} unique complaints\".format(df.shape[0]))\n",
        "#allegations_lst = df['text'].to_list()\n",
        "df.head()"
      ],
      "execution_count": 2,
      "outputs": [
        {
          "output_type": "stream",
          "text": [
            "There are 19966 complaints\n",
            "There are 17001 unique complaints\n"
          ],
          "name": "stdout"
        },
        {
          "output_type": "execute_result",
          "data": {
            "text/html": [
              "<div>\n",
              "<style scoped>\n",
              "    .dataframe tbody tr th:only-of-type {\n",
              "        vertical-align: middle;\n",
              "    }\n",
              "\n",
              "    .dataframe tbody tr th {\n",
              "        vertical-align: top;\n",
              "    }\n",
              "\n",
              "    .dataframe thead th {\n",
              "        text-align: right;\n",
              "    }\n",
              "</style>\n",
              "<table border=\"1\" class=\"dataframe\">\n",
              "  <thead>\n",
              "    <tr style=\"text-align: right;\">\n",
              "      <th></th>\n",
              "      <th>cr_id</th>\n",
              "      <th>text</th>\n",
              "    </tr>\n",
              "  </thead>\n",
              "  <tbody>\n",
              "    <tr>\n",
              "      <th>0</th>\n",
              "      <td>1048960</td>\n",
              "      <td>The reporting party alleges that the\\naccused ...</td>\n",
              "    </tr>\n",
              "    <tr>\n",
              "      <th>4</th>\n",
              "      <td>1048962</td>\n",
              "      <td>The victim alleges that an unknown male\\nblack...</td>\n",
              "    </tr>\n",
              "    <tr>\n",
              "      <th>9</th>\n",
              "      <td>1048964</td>\n",
              "      <td>The reporting party alleges that he was a\\nvi...</td>\n",
              "    </tr>\n",
              "    <tr>\n",
              "      <th>12</th>\n",
              "      <td>1048965</td>\n",
              "      <td>The reporting party alleges that while\\nwaitin...</td>\n",
              "    </tr>\n",
              "    <tr>\n",
              "      <th>14</th>\n",
              "      <td>1048965</td>\n",
              "      <td>The reporting party alleges that while\\nwaitin...</td>\n",
              "    </tr>\n",
              "  </tbody>\n",
              "</table>\n",
              "</div>"
            ],
            "text/plain": [
              "      cr_id                                               text\n",
              "0   1048960  The reporting party alleges that the\\naccused ...\n",
              "4   1048962  The victim alleges that an unknown male\\nblack...\n",
              "9   1048964   The reporting party alleges that he was a\\nvi...\n",
              "12  1048965  The reporting party alleges that while\\nwaitin...\n",
              "14  1048965  The reporting party alleges that while\\nwaitin..."
            ]
          },
          "metadata": {
            "tags": []
          },
          "execution_count": 2
        }
      ]
    },
    {
      "cell_type": "code",
      "metadata": {
        "id": "N0UnBQTJSsTE",
        "colab_type": "code",
        "colab": {}
      },
      "source": [
        "# 1. Convert to lowercase #\n",
        "#\n",
        "\n",
        "\n",
        "class PreProcess():\n",
        "  '''\n",
        "  Class for pre-processing a csv of text documents into a  sparse matrix of\n",
        "  counts following scikit-learn's CountVectorizer\n",
        "\n",
        "  Source:\n",
        "  https://github.com/scikit-learn/scikit-learn/blob/master/sklearn/feature_extraction/text.py\n",
        "  '''\n",
        "\n",
        "  def __init__(self, raw_data, stopwords=None):\n",
        "      self.raw_data = raw_data\n",
        "      self.stop_words = stopwords\n",
        "      self.vectorizer = None\n",
        "\n",
        "  def text_cleaner(self, text):\n",
        "      '''\n",
        "      Custom text preprocessor before tokenization. Converts data to lowercase and\n",
        "      removes special characters (punctuation and numbers)\n",
        "      '''\n",
        "      # conver to lowercase\n",
        "      text = text.lower()\n",
        "      # remove anything that is not a word\n",
        "      text = re.sub('[^a-z]', ' ', text)\n",
        "\n",
        "      return text\n",
        "\n",
        "  def _add_stopwords(self):\n",
        "      '''\n",
        "      Adds stopwords\n",
        "      '''\n",
        "      self.stop_words = text.ENGLISH_STOP_WORDS.union(self.stop_words)\n",
        "  \n",
        "  def _vectorize(self):\n",
        "      '''\n",
        "      Launch a vectorizer with CountVectorizer\n",
        "      '''\n",
        "      if self.stop_words:\n",
        "        self._add_stopwords()\n",
        "      self.vectorizer = CountVectorizer(max_df=0.8, \n",
        "                                        min_df=2, \n",
        "                                        preprocessor=self.text_cleaner,\n",
        "                                        stop_words=self.stop_words)\n",
        "\n",
        "  def _fit_vectorizer(self):\n",
        "      '''\n",
        "      Fit vectorizer\n",
        "      '''\n",
        "      self._vectorize()\n",
        "      X = self.vectorizer.fit_transform(self.raw_data.text.values.astype('U'))\n",
        "\n",
        "      return X\n",
        "\n",
        "  def plot_word_distributions(self, N):\n",
        "      '''\n",
        "      Plots frequencies for top N words\n",
        "\n",
        "      Source:\n",
        "        - https://altair-viz.github.io/gallery/percentage_of_total.html\n",
        "      '''\n",
        "      # get word list\n",
        "      X = self._fit_vectorizer()\n",
        "      word_lst = self.vectorizer.get_feature_names()\n",
        "      counts_lst = np.asarray(X.sum(axis=0)).tolist()[0]\n",
        "\n",
        "      source = pd.DataFrame({'Word': word_lst, 'Count': counts_lst}).sort_values(by=['Count'], ascending=False)[:N]\n",
        "      \n",
        "      alt.data_transformers.disable_max_rows()\n",
        "\n",
        "      plot = alt.Chart(source).transform_joinaggregate(\n",
        "          TotalCount='sum(Count)',\n",
        "      ).transform_calculate(\n",
        "          PercentOfTotal=\"datum.Count / datum.TotalCount\"\n",
        "      ).mark_bar().encode(\n",
        "          alt.X('PercentOfTotal:Q', axis=alt.Axis(format='.0%')),\n",
        "          alt.Y('Word:N', sort='-x')\n",
        "      )\n",
        "      return plot\n"
      ],
      "execution_count": 0,
      "outputs": []
    },
    {
      "cell_type": "code",
      "metadata": {
        "id": "nuMxZvOBXZ6g",
        "colab_type": "code",
        "colab": {}
      },
      "source": [
        "preprocessed_df = PreProcess(df)\n",
        "X = preprocessed_df._fit_vectorizer()\n",
        "word_lst = preprocessed_df.vectorizer.get_feature_names()\n",
        "#test = preprocessed_df.vectorizer\n",
        "counts_lst = np.asarray(X.sum(axis=0)).tolist()[0]\n"
      ],
      "execution_count": 0,
      "outputs": []
    },
    {
      "cell_type": "markdown",
      "metadata": {
        "id": "rQVPsaTEkxsF",
        "colab_type": "text"
      },
      "source": [
        "We want to look at categories like: nudity_penetration,sexual_relations_with_a_minor_,sexual_harassment_sexual_remarks,domestic_violence_police_committing_,sexual_humiliation_sexual_extortion_prostitution_sex_work,tasers_baton_aggressive_physical_touch_gun,trespass_robbery,biometric_surveillance_fitting_a_description_gang_related_,racial_slurs_xenophobic_remarks_,undocumented_status_asking_for_someone_s_status_calling_ice_,planting_drug_guns,neglect_of_duty_failure_to_serve,refusing_to_provide_medical_assistance,workplace_harassment,_irrational_aggressive_unstable_,suicide_in_jail_improper_care_,dcfs_threats,pregnant_women,school,searching_patting_down_arresting_minors\n",
        "\n",
        "So we will eliminate words like accused, reporting, party, alleges, officer, alleged, complainant, officers, victim, vehicle, failed, police, justification, stated, report, states, called, did, unknown, told, provide, incident, regarding, issued."
      ]
    },
    {
      "cell_type": "code",
      "metadata": {
        "id": "i113DtFKuv-_",
        "colab_type": "code",
        "colab": {
          "base_uri": "https://localhost:8080/",
          "height": 464
        },
        "outputId": "2c8cbfe4-8fb3-4155-e59c-940ebd2d2d6c"
      },
      "source": [
        "# Check for common legal jargon\n",
        "additional_stopwords = [\"accused\", \"reporting\", \"party\", \"alleges\", \"officer\", \n",
        "                        \"alleged\", \"complainant\", \"officers\", \"victim\", \"failed\", \n",
        "                        \"police\", \"stated\", \"report\", \"states\", \"called\", \n",
        "                        \"did\", \"told\", \"provide\", \"incident\", \"regarding\", \"issued\",\n",
        "                        \"reported\", \"vehicle\", \"car\", \"justification\"]\n",
        "preprocessed_df = PreProcess(df, additional_stopwords)\n",
        "preprocessed_df.plot_word_distributions(20)\n"
      ],
      "execution_count": 65,
      "outputs": [
        {
          "output_type": "execute_result",
          "data": {
            "text/plain": [
              "alt.Chart(...)"
            ],
            "text/html": [
              "\n",
              "<div id=\"altair-viz-55c842a56b73414aabf39f07aed1e92b\"></div>\n",
              "<script type=\"text/javascript\">\n",
              "  (function(spec, embedOpt){\n",
              "    let outputDiv = document.currentScript.previousElementSibling;\n",
              "    if (outputDiv.id !== \"altair-viz-55c842a56b73414aabf39f07aed1e92b\") {\n",
              "      outputDiv = document.getElementById(\"altair-viz-55c842a56b73414aabf39f07aed1e92b\");\n",
              "    }\n",
              "    const paths = {\n",
              "      \"vega\": \"https://cdn.jsdelivr.net/npm//vega@5?noext\",\n",
              "      \"vega-lib\": \"https://cdn.jsdelivr.net/npm//vega-lib?noext\",\n",
              "      \"vega-lite\": \"https://cdn.jsdelivr.net/npm//vega-lite@4.8.1?noext\",\n",
              "      \"vega-embed\": \"https://cdn.jsdelivr.net/npm//vega-embed@6?noext\",\n",
              "    };\n",
              "\n",
              "    function loadScript(lib) {\n",
              "      return new Promise(function(resolve, reject) {\n",
              "        var s = document.createElement('script');\n",
              "        s.src = paths[lib];\n",
              "        s.async = true;\n",
              "        s.onload = () => resolve(paths[lib]);\n",
              "        s.onerror = () => reject(`Error loading script: ${paths[lib]}`);\n",
              "        document.getElementsByTagName(\"head\")[0].appendChild(s);\n",
              "      });\n",
              "    }\n",
              "\n",
              "    function showError(err) {\n",
              "      outputDiv.innerHTML = `<div class=\"error\" style=\"color:red;\">${err}</div>`;\n",
              "      throw err;\n",
              "    }\n",
              "\n",
              "    function displayChart(vegaEmbed) {\n",
              "      vegaEmbed(outputDiv, spec, embedOpt)\n",
              "        .catch(err => showError(`Javascript Error: ${err.message}<br>This usually means there's a typo in your chart specification. See the javascript console for the full traceback.`));\n",
              "    }\n",
              "\n",
              "    if(typeof define === \"function\" && define.amd) {\n",
              "      requirejs.config({paths});\n",
              "      require([\"vega-embed\"], displayChart, err => showError(`Error loading script: ${err.message}`));\n",
              "    } else if (typeof vegaEmbed === \"function\") {\n",
              "      displayChart(vegaEmbed);\n",
              "    } else {\n",
              "      loadScript(\"vega\")\n",
              "        .then(() => loadScript(\"vega-lite\"))\n",
              "        .then(() => loadScript(\"vega-embed\"))\n",
              "        .catch(showError)\n",
              "        .then(() => displayChart(vegaEmbed));\n",
              "    }\n",
              "  })({\"config\": {\"view\": {\"continuousWidth\": 400, \"continuousHeight\": 300}}, \"data\": {\"name\": \"data-5c0f22c03f935f0f8eb51c1f40ca6ef6\"}, \"mark\": \"bar\", \"encoding\": {\"x\": {\"type\": \"quantitative\", \"axis\": {\"format\": \".0%\"}, \"field\": \"PercentOfTotal\"}, \"y\": {\"type\": \"nominal\", \"field\": \"Word\", \"sort\": \"-x\"}}, \"transform\": [{\"joinaggregate\": [{\"op\": \"sum\", \"field\": \"Count\", \"as\": \"TotalCount\"}]}, {\"calculate\": \"datum.Count / datum.TotalCount\", \"as\": \"PercentOfTotal\"}], \"$schema\": \"https://vega.github.io/schema/vega-lite/v4.8.1.json\", \"datasets\": {\"data-5c0f22c03f935f0f8eb51c1f40ca6ef6\": [{\"Word\": \"male\", \"Count\": 2671}, {\"Word\": \"refused\", \"Count\": 2600}, {\"Word\": \"arrest\", \"Count\": 2306}, {\"Word\": \"unknown\", \"Count\": 2145}, {\"Word\": \"searched\", \"Count\": 2055}, {\"Word\": \"arrested\", \"Count\": 2031}, {\"Word\": \"rude\", \"Count\": 1898}, {\"Word\": \"citation\", \"Count\": 1793}, {\"Word\": \"stopped\", \"Count\": 1755}, {\"Word\": \"traffic\", \"Count\": 1718}, {\"Word\": \"residence\", \"Count\": 1539}, {\"Word\": \"white\", \"Count\": 1526}, {\"Word\": \"unprofessional\", \"Count\": 1451}, {\"Word\": \"district\", \"Count\": 1380}, {\"Word\": \"threatened\", \"Count\": 1302}, {\"Word\": \"time\", \"Count\": 1296}, {\"Word\": \"station\", \"Count\": 1279}, {\"Word\": \"uniformed\", \"Count\": 1189}, {\"Word\": \"black\", \"Count\": 1158}, {\"Word\": \"female\", \"Count\": 1134}]}}, {\"mode\": \"vega-lite\"});\n",
              "</script>"
            ]
          },
          "metadata": {
            "tags": []
          },
          "execution_count": 65
        }
      ]
    },
    {
      "cell_type": "code",
      "metadata": {
        "id": "x24oQa_mi-Vq",
        "colab_type": "code",
        "colab": {}
      },
      "source": [
        "# Check for common legal jargon\n",
        "additional_stopwords = ['it']\n",
        "preprocessed_df = PreProcess(df, additional_stopwords)\n",
        "preprocessed_df.plot_word_distributions(20)\n"
      ],
      "execution_count": 0,
      "outputs": []
    },
    {
      "cell_type": "code",
      "metadata": {
        "id": "PXoKKFEUT49K",
        "colab_type": "code",
        "colab": {
          "base_uri": "https://localhost:8080/",
          "height": 464
        },
        "outputId": "c33fc909-74d2-4184-f70d-7ccfa2358749"
      },
      "source": [
        "alt.data_transformers.disable_max_rows()\n",
        "\n",
        "alt.Chart(source).transform_joinaggregate(\n",
        "    TotalCount='sum(Count)',\n",
        ").transform_calculate(\n",
        "    PercentOfTotal=\"datum.Count / datum.TotalCount\"\n",
        ").mark_bar().encode(\n",
        "    alt.X('PercentOfTotal:Q', axis=alt.Axis(format='.0%')),\n",
        "    alt.Y('Word:N', sort='-x')\n",
        ")\n",
        "\n"
      ],
      "execution_count": 31,
      "outputs": [
        {
          "output_type": "execute_result",
          "data": {
            "text/plain": [
              "alt.Chart(...)"
            ],
            "text/html": [
              "\n",
              "<div id=\"altair-viz-9da3603a035e490b9f564d8c62b1d71b\"></div>\n",
              "<script type=\"text/javascript\">\n",
              "  (function(spec, embedOpt){\n",
              "    let outputDiv = document.currentScript.previousElementSibling;\n",
              "    if (outputDiv.id !== \"altair-viz-9da3603a035e490b9f564d8c62b1d71b\") {\n",
              "      outputDiv = document.getElementById(\"altair-viz-9da3603a035e490b9f564d8c62b1d71b\");\n",
              "    }\n",
              "    const paths = {\n",
              "      \"vega\": \"https://cdn.jsdelivr.net/npm//vega@5?noext\",\n",
              "      \"vega-lib\": \"https://cdn.jsdelivr.net/npm//vega-lib?noext\",\n",
              "      \"vega-lite\": \"https://cdn.jsdelivr.net/npm//vega-lite@4.8.1?noext\",\n",
              "      \"vega-embed\": \"https://cdn.jsdelivr.net/npm//vega-embed@6?noext\",\n",
              "    };\n",
              "\n",
              "    function loadScript(lib) {\n",
              "      return new Promise(function(resolve, reject) {\n",
              "        var s = document.createElement('script');\n",
              "        s.src = paths[lib];\n",
              "        s.async = true;\n",
              "        s.onload = () => resolve(paths[lib]);\n",
              "        s.onerror = () => reject(`Error loading script: ${paths[lib]}`);\n",
              "        document.getElementsByTagName(\"head\")[0].appendChild(s);\n",
              "      });\n",
              "    }\n",
              "\n",
              "    function showError(err) {\n",
              "      outputDiv.innerHTML = `<div class=\"error\" style=\"color:red;\">${err}</div>`;\n",
              "      throw err;\n",
              "    }\n",
              "\n",
              "    function displayChart(vegaEmbed) {\n",
              "      vegaEmbed(outputDiv, spec, embedOpt)\n",
              "        .catch(err => showError(`Javascript Error: ${err.message}<br>This usually means there's a typo in your chart specification. See the javascript console for the full traceback.`));\n",
              "    }\n",
              "\n",
              "    if(typeof define === \"function\" && define.amd) {\n",
              "      requirejs.config({paths});\n",
              "      require([\"vega-embed\"], displayChart, err => showError(`Error loading script: ${err.message}`));\n",
              "    } else if (typeof vegaEmbed === \"function\") {\n",
              "      displayChart(vegaEmbed);\n",
              "    } else {\n",
              "      loadScript(\"vega\")\n",
              "        .then(() => loadScript(\"vega-lite\"))\n",
              "        .then(() => loadScript(\"vega-embed\"))\n",
              "        .catch(showError)\n",
              "        .then(() => displayChart(vegaEmbed));\n",
              "    }\n",
              "  })({\"config\": {\"view\": {\"continuousWidth\": 400, \"continuousHeight\": 300}}, \"data\": {\"name\": \"data-a0abab043528c54dd0418ee068fbfeea\"}, \"mark\": \"bar\", \"encoding\": {\"x\": {\"type\": \"quantitative\", \"axis\": {\"format\": \".0%\"}, \"field\": \"PercentOfTotal\"}, \"y\": {\"type\": \"nominal\", \"field\": \"Word\", \"sort\": \"-x\"}}, \"transform\": [{\"joinaggregate\": [{\"op\": \"sum\", \"field\": \"Count\", \"as\": \"TotalCount\"}]}, {\"calculate\": \"datum.Count / datum.TotalCount\", \"as\": \"PercentOfTotal\"}], \"$schema\": \"https://vega.github.io/schema/vega-lite/v4.8.1.json\", \"datasets\": {\"data-a0abab043528c54dd0418ee068fbfeea\": [{\"Word\": \"and\", \"Count\": 26853}, {\"Word\": \"to\", \"Count\": 26319}, {\"Word\": \"accused\", \"Count\": 23353}, {\"Word\": \"reporting\", \"Count\": 20264}, {\"Word\": \"party\", \"Count\": 20186}, {\"Word\": \"her\", \"Count\": 18796}, {\"Word\": \"alleges\", \"Count\": 15661}, {\"Word\": \"officer\", \"Count\": 13874}, {\"Word\": \"him\", \"Count\": 11921}, {\"Word\": \"his\", \"Count\": 11787}, {\"Word\": \"alleged\", \"Count\": 10726}, {\"Word\": \"was\", \"Count\": 10638}, {\"Word\": \"he\", \"Count\": 10426}, {\"Word\": \"of\", \"Count\": 10018}, {\"Word\": \"in\", \"Count\": 9594}, {\"Word\": \"complainant\", \"Count\": 8905}, {\"Word\": \"officers\", \"Count\": 8192}, {\"Word\": \"she\", \"Count\": 8076}, {\"Word\": \"for\", \"Count\": 6253}, {\"Word\": \"on\", \"Count\": 6110}]}}, {\"mode\": \"vega-lite\"});\n",
              "</script>"
            ]
          },
          "metadata": {
            "tags": []
          },
          "execution_count": 31
        }
      ]
    }
  ]
}