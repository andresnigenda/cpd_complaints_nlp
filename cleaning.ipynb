{
 "cells": [
  {
   "cell_type": "code",
   "execution_count": 1,
   "metadata": {},
   "outputs": [],
   "source": [
    "import pandas as pd\n"
   ]
  },
  {
   "cell_type": "code",
   "execution_count": 2,
   "metadata": {},
   "outputs": [],
   "source": [
    "categories = ['tasers_baton_aggressive_physical_touch_gun',\n",
    "              'trespass_robbery',\n",
    "              'racial_slurs_xenophobic_remarks_',\n",
    "              'planting_drug_guns']"
   ]
  },
  {
   "cell_type": "code",
   "execution_count": 3,
   "metadata": {},
   "outputs": [],
   "source": [
    "text = pd.read_csv('training_with_text.csv')\n",
    "text['text_content'] = text.text_content.str.lower()\n",
    "text['text_content'] = text.text_content.str.replace(r'\\\\n', ' ')\n",
    "text['text_content'] = text.text_content.str.replace(r'\\n', ' ', regex=True)\n",
    "text['text_content'] = text.text_content.str.replace(\"\\\\'\", '')\n",
    "text['text_content'] = text.text_content.str.replace(\",\", '')\n",
    "text['text_content'] = text.text_content.str.replace(\"[0-9]\", '')\n",
    "text['text_content'] = text.text_content.str.replace('\"', '')\n",
    "text['text_content'] = text.text_content.str.replace('/', '')\n",
    "text['text_content'] = text.text_content.str.replace(';', '')\n",
    "text['text_content'] = text.text_content.str.replace(':', '')\n",
    "text['text_content'] = text.text_content.str.replace('.', '')\n",
    "text['text_content'] = text.text_content.str.replace('(', '')\n",
    "text['text_content'] = text.text_content.str.replace(')', '')\n",
    "text['text_content'] = text.text_content.str.replace('*', '')\n",
    "text['text_content'] = text.text_content.str.replace('-', '')\n",
    "text['text_content'] = text.text_content.str.replace('#', '')\n",
    "text['text_content'] = text.text_content.str.replace('[', '')\n",
    "text['text_content'] = text.text_content.str.replace(']', '')\n",
    "text['text_content'] = text.text_content.str.replace('?', '')\n",
    "text['text_content'] = text.text_content.str.replace('}', '')\n",
    "text['text_content'] = text.text_content.str.replace('{', '')\n",
    "text['text_content'] = text.text_content.str.replace('~', '')\n",
    "text = text[['text_content',\n",
    "         'tasers_baton_aggressive_physical_touch_gun',\n",
    "         'trespass_robbery',\n",
    "         'racial_slurs_xenophobic_remarks_',\n",
    "         'planting_drug_guns']]\n",
    "\n",
    "\n",
    "text.to_csv('plain_text.csv', index=False)"
   ]
  }
 ],
 "metadata": {
  "kernelspec": {
   "display_name": "Python 3",
   "language": "python",
   "name": "python3"
  },
  "language_info": {
   "codemirror_mode": {
    "name": "ipython",
    "version": 3
   },
   "file_extension": ".py",
   "mimetype": "text/x-python",
   "name": "python",
   "nbconvert_exporter": "python",
   "pygments_lexer": "ipython3",
   "version": "3.7.6"
  }
 },
 "nbformat": 4,
 "nbformat_minor": 4
}
