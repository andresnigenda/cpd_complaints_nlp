{
 "cells": [
  {
   "cell_type": "code",
   "execution_count": 1,
   "metadata": {},
   "outputs": [],
   "source": [
    "import pandas as pd\n",
    "import torch\n",
    "import re\n",
    "from torchtext import data"
   ]
  },
  {
   "cell_type": "code",
   "execution_count": 2,
   "metadata": {},
   "outputs": [],
   "source": [
    "df = pd.read_csv('training_with_text.csv')\n",
    "df = df.loc[df.category.notna()]\n",
    "df['text_content'] = df.text_content.str.lower()\n",
    "df['text_content'] = df.text_content.str.replace('\\\\n', ' ')\n",
    "df['text_content'] = df.text_content.str.replace(\"\\\\'\", '')\n",
    "df['category'] = df.category.str.lower()\n",
    "df = df[['text_content', 'category']]\n",
    "df.to_csv('plain_text.csv', index=False)"
   ]
  },
  {
   "cell_type": "code",
   "execution_count": 3,
   "metadata": {},
   "outputs": [],
   "source": [
    "TEXT = data.Field(tokenize = 'spacy')\n",
    "LABEL = data.LabelField()\n",
    "\n",
    "complaints = data.TabularDataset(\n",
    "    path='plain_text.csv', format='csv',\n",
    "    fields=[('text', TEXT),\n",
    "            ('labels', LABEL)],\n",
    "    skip_header=True)\n",
    "\n",
    "train, val = complaints.split(split_ratio=0.7)\n",
    "\n",
    "MAX_VOCAB_SIZE = 25000\n",
    "\n",
    "TEXT.build_vocab(train,\n",
    "                 max_size = MAX_VOCAB_SIZE, \n",
    "                 vectors = \"glove.6B.100d\", \n",
    "                 unk_init = torch.Tensor.normal_)\n",
    "LABEL.build_vocab(train)"
   ]
  },
  {
   "cell_type": "code",
   "execution_count": 4,
   "metadata": {},
   "outputs": [
    {
     "name": "stdout",
     "output_type": "stream",
     "text": [
      "['<unk>', '<pad>', '.', 'the', ',', 'of', ':', 'to', '?', ' ', 'and', '-', 'a', 'that', 'in', 'i', ')', 'or', 'no', 'on', '(', 'you', '1', 'was', '~', '#', 'not', 'police', 'he', 'be', 'at', 'for', 'officer', 'with', 'by', '/', 'this', 'date', '3', 'as', 'is', '2', '\"', 'his', 'unit', ';', 'accused', 'report', 'from', 'time', '_', 'department', 'of?cer', 'an', 'if', '5', 'chicago', 'him', '..', 'name', 'did', 'investigation', 'subject', '0', 'any', 'it', 'your', 'have', 'star', 'will', 'her', 'complainant', 'stated', 'are', 'complaint', 'member', 'were', '4', 'incident', 'allegation', 'she', 'officers', 'statement', 'other', 'attachment', 'page', 'standards', 'my', 'against', 'professional', 'allegations', 'had', 'counsel', '!', 'sustained', 'duty', '[', 'office', 'which', 'charges']\n"
     ]
    }
   ],
   "source": [
    "print(TEXT.vocab.itos[:100])"
   ]
  },
  {
   "cell_type": "code",
   "execution_count": 6,
   "metadata": {},
   "outputs": [
    {
     "name": "stdout",
     "output_type": "stream",
     "text": [
      "['use of force', 'operation/personnel violations', 'illegal search', 'false arrest', 'verbal abuse', 'domestic', 'criminal misconduct', 'lockup procedures', 'conduct unbecoming (off-duty)', 'traffic']\n"
     ]
    }
   ],
   "source": [
    "print(LABEL.vocab.itos[:10])"
   ]
  },
  {
   "cell_type": "code",
   "execution_count": 5,
   "metadata": {},
   "outputs": [],
   "source": [
    "BATCH_SIZE = 64\n",
    "\n",
    "device = torch.device('cuda' if torch.cuda.is_available() else 'cpu')\n",
    "\n",
    "train_iterator, valid_iterator = data.BucketIterator.splits(\n",
    "    (train, val), \n",
    "    batch_size = BATCH_SIZE,\n",
    "    device = device)"
   ]
  }
 ],
 "metadata": {
  "kernelspec": {
   "display_name": "Python 3",
   "language": "python",
   "name": "python3"
  },
  "language_info": {
   "codemirror_mode": {
    "name": "ipython",
    "version": 3
   },
   "file_extension": ".py",
   "mimetype": "text/x-python",
   "name": "python",
   "nbconvert_exporter": "python",
   "pygments_lexer": "ipython3",
   "version": "3.7.6"
  }
 },
 "nbformat": 4,
 "nbformat_minor": 4
}
