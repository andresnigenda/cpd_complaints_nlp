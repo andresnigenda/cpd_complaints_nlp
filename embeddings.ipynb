{
  "nbformat": 4,
  "nbformat_minor": 0,
  "metadata": {
    "kernelspec": {
      "display_name": "Python 3",
      "language": "python",
      "name": "python3"
    },
    "language_info": {
      "codemirror_mode": {
        "name": "ipython",
        "version": 3
      },
      "file_extension": ".py",
      "mimetype": "text/x-python",
      "name": "python",
      "nbconvert_exporter": "python",
      "pygments_lexer": "ipython3",
      "version": "3.7.4"
    },
    "colab": {
      "name": "embeddings.ipynb",
      "provenance": [],
      "include_colab_link": true
    }
  },
  "cells": [
    {
      "cell_type": "markdown",
      "metadata": {
        "id": "view-in-github",
        "colab_type": "text"
      },
      "source": [
        "<a href=\"https://colab.research.google.com/github/andresnigenda/cpd_complaints_nlp/blob/master/embeddings.ipynb\" target=\"_parent\"><img src=\"https://colab.research.google.com/assets/colab-badge.svg\" alt=\"Open In Colab\"/></a>"
      ]
    },
    {
      "cell_type": "code",
      "metadata": {
        "id": "O42i_67t7xc9",
        "colab_type": "code",
        "colab": {}
      },
      "source": [
        "import pandas as pd\n",
        "import torch\n",
        "import re\n",
        "from torchtext import data\n",
        "import random\n",
        "import copy\n",
        "import torch.nn as nn\n",
        "import torch.optim as optim\n",
        "import torch.nn.functional as F\n",
        "import spacy\n",
        "import sys\n",
        "import csv\n",
        "\n",
        "csv.field_size_limit(sys.maxsize)\n",
        "SEED = 1234\n",
        "\n",
        "torch.manual_seed(SEED)\n",
        "torch.backends.cudnn.deterministic = True\n",
        "\n",
        "# We are using 'spacy' tokenizer. You can also write your own tokenizer. You can \n",
        "# download spacy from https://spacy.io/usage\n",
        "TEXT = data.Field(tokenize = 'spacy')\n",
        "LABEL = data.LabelField(dtype = torch.float)"
      ],
      "execution_count": 0,
      "outputs": []
    },
    {
      "cell_type": "code",
      "metadata": {
        "id": "G0vDHph78RBw",
        "colab_type": "code",
        "colab": {
          "base_uri": "https://localhost:8080/",
          "height": 126
        },
        "outputId": "32d8419a-a213-4642-b60e-99f7724938d3"
      },
      "source": [
        "from google.colab import drive\n",
        "drive.mount('/content/drive')"
      ],
      "execution_count": 3,
      "outputs": [
        {
          "output_type": "stream",
          "text": [
            "Go to this URL in a browser: https://accounts.google.com/o/oauth2/auth?client_id=947318989803-6bn6qk8qdgf4n4g3pfee6491hc0brc4i.apps.googleusercontent.com&redirect_uri=urn%3aietf%3awg%3aoauth%3a2.0%3aoob&response_type=code&scope=email%20https%3a%2f%2fwww.googleapis.com%2fauth%2fdocs.test%20https%3a%2f%2fwww.googleapis.com%2fauth%2fdrive%20https%3a%2f%2fwww.googleapis.com%2fauth%2fdrive.photos.readonly%20https%3a%2f%2fwww.googleapis.com%2fauth%2fpeopleapi.readonly\n",
            "\n",
            "Enter your authorization code:\n",
            "··········\n",
            "Mounted at /content/drive\n"
          ],
          "name": "stdout"
        }
      ]
    },
    {
      "cell_type": "code",
      "metadata": {
        "id": "014dXP7C7xdN",
        "colab_type": "code",
        "colab": {}
      },
      "source": [
        "df = pd.read_csv('training_with_text.csv')\n",
        "df['text_content'] = df.text_content.str.lower()\n",
        "df['text_content'] = df.text_content.str.replace('\\\\n', ' ')\n",
        "df['text_content'] = df.text_content.str.replace(\"\\\\'\", '')\n",
        "df['text_content'] = df['text_content'].fillna('')"
      ],
      "execution_count": 0,
      "outputs": []
    },
    {
      "cell_type": "code",
      "metadata": {
        "id": "CZrOlIFV2FMe",
        "colab_type": "code",
        "colab": {}
      },
      "source": [
        "#Use 'tasers_baton_aggressive_physical_touch_gun' as binary category\n",
        "df['tasers_baton_aggressive_physical_touch_gun'] = df.apply(lambda x: 'pos' if x['tasers_baton_aggressive_physical_touch_gun'] == 1 else 'neg', axis=1)"
      ],
      "execution_count": 0,
      "outputs": []
    },
    {
      "cell_type": "code",
      "metadata": {
        "id": "s126awFV1Ux-",
        "colab_type": "code",
        "colab": {}
      },
      "source": [
        "from string import digits\n",
        "\n",
        "def remove_digits(row):\n",
        "    remove_digits = str.maketrans('', '', digits)\n",
        "    return row['text_content'].translate(remove_digits)\n",
        "\n",
        "df['text_content'] = df.apply(remove_digits, axis=1)"
      ],
      "execution_count": 0,
      "outputs": []
    },
    {
      "cell_type": "code",
      "metadata": {
        "id": "IjlsD09P1YmD",
        "colab_type": "code",
        "colab": {}
      },
      "source": [
        "df = df[['text_content', 'tasers_baton_aggressive_physical_touch_gun']]\n",
        "df.to_csv('plain_text.csv', index=False)"
      ],
      "execution_count": 0,
      "outputs": []
    },
    {
      "cell_type": "code",
      "metadata": {
        "id": "t2RC-VOE7xdR",
        "colab_type": "code",
        "colab": {}
      },
      "source": [
        "TEXT = data.Field(tokenize = 'spacy')\n",
        "LABEL = data.LabelField()"
      ],
      "execution_count": 0,
      "outputs": []
    },
    {
      "cell_type": "code",
      "metadata": {
        "id": "6gf1mNZJ-L2B",
        "colab_type": "code",
        "colab": {}
      },
      "source": [
        "complaints = data.TabularDataset(\n",
        "    path='plain_text.csv', format='csv',\n",
        "    fields=[('text', TEXT),\n",
        "            ('labels', LABEL)],\n",
        "    skip_header=True)\n",
        "train, val = complaints.split(split_ratio=0.7)\n",
        "\n",
        "MAX_VOCAB_SIZE = 25000\n",
        "\n",
        "TEXT.build_vocab(train,\n",
        "                 max_size = MAX_VOCAB_SIZE, \n",
        "                 vectors = \"glove.6B.100d\", \n",
        "                 unk_init = torch.Tensor.normal_)\n",
        "LABEL.build_vocab(train)"
      ],
      "execution_count": 0,
      "outputs": []
    },
    {
      "cell_type": "code",
      "metadata": {
        "id": "3s6pWuqw7xdW",
        "colab_type": "code",
        "colab": {
          "base_uri": "https://localhost:8080/",
          "height": 55
        },
        "outputId": "3ec4f1f4-7647-40a3-b1cb-51e747d28470"
      },
      "source": [
        "print(TEXT.vocab.itos[:100])"
      ],
      "execution_count": 41,
      "outputs": [
        {
          "output_type": "stream",
          "text": [
            "['<unk>', '<pad>', '.', ' ', 'the', ',', ':', '?', 'of', 'to', 'and', '-', 'a', 'i', 'that', 'in', 'you', ')', 'or', 'no', 'on', '(', 'was', '#', '~', 'he', 'at', 'not', 'be', '/', 'by', 'police', 'for', '  ', 'with', 'this', '\"', 'officer', 'date', 'is', 'as', ';', 'time', 'accused', 'his', 'unit', 'did', 'from', 'report', '..', 'your', 'if', '_', 'an', 'department', 'it', 'him', 'of?cer', 'have', 'any', 'chicago', 'were', 'name', 'investigation', 'are', 'will', 'a.', 'subject', 'star', 'complainant', 'statement', 'complaint', 'her', 'page', 'r', 'attachment', 'my', 'member', 'me', 'allegation', 'had', 'other', 'incident', 'against', 'yes', 'q.', 'right', 'counsel', 'court', 'she', 'officers', '!', 'stated', 'when', 'what', 'allegations', 'all', 'm', 'been', 'which']\n"
          ],
          "name": "stdout"
        }
      ]
    },
    {
      "cell_type": "code",
      "metadata": {
        "id": "Zrw4nH3B7xdd",
        "colab_type": "code",
        "colab": {
          "base_uri": "https://localhost:8080/",
          "height": 35
        },
        "outputId": "d5179381-daac-4036-ed43-8d6ad72baec8"
      },
      "source": [
        "print(LABEL.vocab.itos)"
      ],
      "execution_count": 42,
      "outputs": [
        {
          "output_type": "stream",
          "text": [
            "['neg', 'pos']\n"
          ],
          "name": "stdout"
        }
      ]
    },
    {
      "cell_type": "code",
      "metadata": {
        "id": "7uFVIhCJ7xdk",
        "colab_type": "code",
        "colab": {}
      },
      "source": [
        "BATCH_SIZE = 64\n",
        "\n",
        "device = torch.device('cuda' if torch.cuda.is_available() else 'cpu')\n",
        "\n",
        "train_iterator, valid_iterator = data.BucketIterator.splits(\n",
        "    (train, val), \n",
        "    batch_size = BATCH_SIZE,\n",
        "    device = device)"
      ],
      "execution_count": 0,
      "outputs": []
    },
    {
      "cell_type": "code",
      "metadata": {
        "id": "Tu_Pg7gpOtYo",
        "colab_type": "code",
        "colab": {}
      },
      "source": [
        "def binary_accuracy(preds, y):\n",
        "    \"\"\"\n",
        "    Return accuracy per batch\n",
        "    \"\"\"\n",
        "\n",
        "    #round predictions to the closest integer\n",
        "    rounded_preds = torch.round(torch.sigmoid(preds))\n",
        "    correct = (rounded_preds == y).float() #convert into float for division \n",
        "    acc = correct.sum() / len(correct)\n",
        "    return acc"
      ],
      "execution_count": 0,
      "outputs": []
    },
    {
      "cell_type": "code",
      "metadata": {
        "id": "Wo9hvbDnOuMd",
        "colab_type": "code",
        "colab": {}
      },
      "source": [
        "class WordEmbAvg(nn.Module):\n",
        "    def __init__(self, input_dim, embedding_dim, hidden_dim, output_dim, pad_idx):\n",
        "        \n",
        "        super().__init__()\n",
        "        \n",
        "        # Define an embedding layer, a couple of linear layers, and \n",
        "        # the ReLU non-linearity.\n",
        "\n",
        "        ##YOUR CODE HERE##\n",
        "        self.embedding = nn.Embedding(input_dim, embedding_dim)\n",
        "        self.linear1 = nn.Linear(pad_idx * embedding_dim, hidden_dim)\n",
        "        self.linear2 = nn.Linear(hidden_dim, output_dim)                                 \n",
        "        \n",
        "        \n",
        "    def forward(self, text):\n",
        "\n",
        "        ##YOUR CODE HERE##\n",
        "        embeds = self.embedding(text)\n",
        "        embeds = self.linear1(embeds.mean(0))\n",
        "        out = F.relu(embeds)\n",
        "        return self.linear2(out)"
      ],
      "execution_count": 0,
      "outputs": []
    },
    {
      "cell_type": "code",
      "metadata": {
        "id": "txSTrMSjO3TL",
        "colab_type": "code",
        "colab": {}
      },
      "source": [
        "class Training_module( ):\n",
        "\n",
        "    def __init__(self, model, epochs):\n",
        "       self.model = model\n",
        "       self.loss_fn = nn.BCEWithLogitsLoss()\n",
        "       \n",
        "       ##YOUR CODE HERE##\n",
        "       # Choose an optimizer. optim.Adam is a popular choice\n",
        "       self.optimizer = optim.Adam(model.parameters())\n",
        "       self.epochs = epochs\n",
        "    \n",
        "    def train_epoch(self, iterator):\n",
        "        '''\n",
        "        Train the model for one epoch. For this repeat the following, \n",
        "        going through all training examples.\n",
        "        1. Get the next batch of inputs from the iterator.\n",
        "        2. Determine the predictions using a forward pass.\n",
        "        3. Compute the loss.\n",
        "        4. Compute gradients using a backward pass.\n",
        "        5. Execute one step of the optimizer to update the model paramters.\n",
        "        '''\n",
        "        epoch_loss = 0\n",
        "        epoch_acc = 0\n",
        "    \n",
        "        for batch in iterator:\n",
        "          # batch.text has the texts and batch.label has the labels.\n",
        "        \n",
        "            self.optimizer.zero_grad()\n",
        "                \n",
        "            ##YOUR CODE HERE##\n",
        "            predictions = model(batch.text).squeeze(1)\n",
        "            loss = self.loss_fn(predictions, batch.label)\n",
        "            accuracy = binary_accuracy(predictions, batch.label)\n",
        "        \n",
        "            loss.backward()\n",
        "            self.optimizer.step()\n",
        "            epoch_loss += loss.item()\n",
        "            epoch_acc += accuracy.item()\n",
        "        \n",
        "        return epoch_loss / len(iterator), epoch_acc / len(iterator)\n",
        "    \n",
        "    def train_model(self, train_iterator, dev_iterator):\n",
        "        \"\"\"\n",
        "        Train the model for multiple epochs, and after each evaluate on the\n",
        "        development set.  Return the best performing model.\n",
        "        \"\"\"  \n",
        "        dev_accs = [0.]\n",
        "        for epoch in range(self.epochs):\n",
        "            self.train_epoch(train_iterator)\n",
        "            dev_acc = self.evaluate(dev_iterator)\n",
        "            print(f\"Epoch {epoch}: Dev Accuracy: {dev_acc[1]} Dev Loss:{dev_acc[0]}\")\n",
        "            if dev_acc[1] > max(dev_accs):\n",
        "                best_model = copy.deepcopy(self)\n",
        "            dev_accs.append(dev_acc[1])\n",
        "        return best_model.model\n",
        "                \n",
        "    def evaluate(self, iterator):\n",
        "        '''\n",
        "        Evaluate the performance of the model on the given examples.\n",
        "        '''\n",
        "        epoch_loss = 0\n",
        "        epoch_acc = 0\n",
        "    \n",
        "        with torch.no_grad():\n",
        "    \n",
        "            for batch in iterator:\n",
        "\n",
        "                predictions = model(batch.text).squeeze(1)\n",
        "            \n",
        "                loss = self.loss_fn(predictions, batch.label)\n",
        "                acc = binary_accuracy(predictions, batch.label)\n",
        "                epoch_loss += loss.item()\n",
        "                epoch_acc += acc.item()\n",
        "        \n",
        "        return epoch_loss / len(iterator), epoch_acc / len(iterator)"
      ],
      "execution_count": 0,
      "outputs": []
    },
    {
      "cell_type": "code",
      "metadata": {
        "id": "PGB101D-PD4R",
        "colab_type": "code",
        "colab": {}
      },
      "source": [
        "INPUT_DIM = len(TEXT.vocab)\n",
        "#You can try many different embedding dimensions. Common values are 20, 32, 64, 100, 128, 512\n",
        "EMBEDDING_DIM = 100\n",
        "HIDDEN_DIM = 50\n",
        "OUTPUT_DIM = 1\n",
        "#Get the index of the pad token using the stoi function\n",
        "PAD_IDX = TEXT.vocab.stoi[TEXT.pad_token]\n",
        "\n",
        "\n",
        "model = WordEmbAvg(INPUT_DIM, EMBEDDING_DIM, HIDDEN_DIM, OUTPUT_DIM, PAD_IDX)"
      ],
      "execution_count": 0,
      "outputs": []
    },
    {
      "cell_type": "code",
      "metadata": {
        "id": "YGEzwXQ_PGyy",
        "colab_type": "code",
        "colab": {}
      },
      "source": [
        "model = model.to(device)\n",
        "tm = Training_module(model, 5)"
      ],
      "execution_count": 0,
      "outputs": []
    },
    {
      "cell_type": "code",
      "metadata": {
        "id": "rCDplmHHPHzA",
        "colab_type": "code",
        "colab": {
          "base_uri": "https://localhost:8080/",
          "height": 333
        },
        "outputId": "111f9674-dbfc-4ce3-a135-22436e476e41"
      },
      "source": [
        "#Training the model\n",
        "best_model = tm.train_model(train_iterator, valid_iterator)"
      ],
      "execution_count": 49,
      "outputs": [
        {
          "output_type": "error",
          "ename": "AttributeError",
          "evalue": "ignored",
          "traceback": [
            "\u001b[0;31m---------------------------------------------------------------------------\u001b[0m",
            "\u001b[0;31mAttributeError\u001b[0m                            Traceback (most recent call last)",
            "\u001b[0;32m<ipython-input-49-a033427dd1b8>\u001b[0m in \u001b[0;36m<module>\u001b[0;34m()\u001b[0m\n\u001b[1;32m      1\u001b[0m \u001b[0;31m#Training the model\u001b[0m\u001b[0;34m\u001b[0m\u001b[0;34m\u001b[0m\u001b[0;34m\u001b[0m\u001b[0m\n\u001b[0;32m----> 2\u001b[0;31m \u001b[0mbest_model\u001b[0m \u001b[0;34m=\u001b[0m \u001b[0mtm\u001b[0m\u001b[0;34m.\u001b[0m\u001b[0mtrain_model\u001b[0m\u001b[0;34m(\u001b[0m\u001b[0mtrain_iterator\u001b[0m\u001b[0;34m,\u001b[0m \u001b[0mvalid_iterator\u001b[0m\u001b[0;34m)\u001b[0m\u001b[0;34m\u001b[0m\u001b[0;34m\u001b[0m\u001b[0m\n\u001b[0m",
            "\u001b[0;32m<ipython-input-46-21515f07a2ab>\u001b[0m in \u001b[0;36mtrain_model\u001b[0;34m(self, train_iterator, dev_iterator)\u001b[0m\n\u001b[1;32m     47\u001b[0m         \u001b[0mdev_accs\u001b[0m \u001b[0;34m=\u001b[0m \u001b[0;34m[\u001b[0m\u001b[0;36m0.\u001b[0m\u001b[0;34m]\u001b[0m\u001b[0;34m\u001b[0m\u001b[0;34m\u001b[0m\u001b[0m\n\u001b[1;32m     48\u001b[0m         \u001b[0;32mfor\u001b[0m \u001b[0mepoch\u001b[0m \u001b[0;32min\u001b[0m \u001b[0mrange\u001b[0m\u001b[0;34m(\u001b[0m\u001b[0mself\u001b[0m\u001b[0;34m.\u001b[0m\u001b[0mepochs\u001b[0m\u001b[0;34m)\u001b[0m\u001b[0;34m:\u001b[0m\u001b[0;34m\u001b[0m\u001b[0;34m\u001b[0m\u001b[0m\n\u001b[0;32m---> 49\u001b[0;31m             \u001b[0mself\u001b[0m\u001b[0;34m.\u001b[0m\u001b[0mtrain_epoch\u001b[0m\u001b[0;34m(\u001b[0m\u001b[0mtrain_iterator\u001b[0m\u001b[0;34m)\u001b[0m\u001b[0;34m\u001b[0m\u001b[0;34m\u001b[0m\u001b[0m\n\u001b[0m\u001b[1;32m     50\u001b[0m             \u001b[0mdev_acc\u001b[0m \u001b[0;34m=\u001b[0m \u001b[0mself\u001b[0m\u001b[0;34m.\u001b[0m\u001b[0mevaluate\u001b[0m\u001b[0;34m(\u001b[0m\u001b[0mdev_iterator\u001b[0m\u001b[0;34m)\u001b[0m\u001b[0;34m\u001b[0m\u001b[0;34m\u001b[0m\u001b[0m\n\u001b[1;32m     51\u001b[0m             \u001b[0mprint\u001b[0m\u001b[0;34m(\u001b[0m\u001b[0;34mf\"Epoch {epoch}: Dev Accuracy: {dev_acc[1]} Dev Loss:{dev_acc[0]}\"\u001b[0m\u001b[0;34m)\u001b[0m\u001b[0;34m\u001b[0m\u001b[0;34m\u001b[0m\u001b[0m\n",
            "\u001b[0;32m<ipython-input-46-21515f07a2ab>\u001b[0m in \u001b[0;36mtrain_epoch\u001b[0;34m(self, iterator)\u001b[0m\n\u001b[1;32m     30\u001b[0m             \u001b[0;31m##YOUR CODE HERE##\u001b[0m\u001b[0;34m\u001b[0m\u001b[0;34m\u001b[0m\u001b[0;34m\u001b[0m\u001b[0m\n\u001b[1;32m     31\u001b[0m             \u001b[0mpredictions\u001b[0m \u001b[0;34m=\u001b[0m \u001b[0mmodel\u001b[0m\u001b[0;34m(\u001b[0m\u001b[0mbatch\u001b[0m\u001b[0;34m.\u001b[0m\u001b[0mtext\u001b[0m\u001b[0;34m)\u001b[0m\u001b[0;34m.\u001b[0m\u001b[0msqueeze\u001b[0m\u001b[0;34m(\u001b[0m\u001b[0;36m1\u001b[0m\u001b[0;34m)\u001b[0m\u001b[0;34m\u001b[0m\u001b[0;34m\u001b[0m\u001b[0m\n\u001b[0;32m---> 32\u001b[0;31m             \u001b[0mloss\u001b[0m \u001b[0;34m=\u001b[0m \u001b[0mself\u001b[0m\u001b[0;34m.\u001b[0m\u001b[0mloss_fn\u001b[0m\u001b[0;34m(\u001b[0m\u001b[0mpredictions\u001b[0m\u001b[0;34m,\u001b[0m \u001b[0mbatch\u001b[0m\u001b[0;34m.\u001b[0m\u001b[0mlabel\u001b[0m\u001b[0;34m)\u001b[0m\u001b[0;34m\u001b[0m\u001b[0;34m\u001b[0m\u001b[0m\n\u001b[0m\u001b[1;32m     33\u001b[0m             \u001b[0maccuracy\u001b[0m \u001b[0;34m=\u001b[0m \u001b[0mbinary_accuracy\u001b[0m\u001b[0;34m(\u001b[0m\u001b[0mpredictions\u001b[0m\u001b[0;34m,\u001b[0m \u001b[0mbatch\u001b[0m\u001b[0;34m.\u001b[0m\u001b[0mlabel\u001b[0m\u001b[0;34m)\u001b[0m\u001b[0;34m\u001b[0m\u001b[0;34m\u001b[0m\u001b[0m\n\u001b[1;32m     34\u001b[0m \u001b[0;34m\u001b[0m\u001b[0m\n",
            "\u001b[0;31mAttributeError\u001b[0m: 'Batch' object has no attribute 'label'"
          ]
        }
      ]
    },
    {
      "cell_type": "code",
      "metadata": {
        "id": "cnJZ27DYPNiW",
        "colab_type": "code",
        "colab": {}
      },
      "source": [
        "# Determine accuracy of best model. You should obtain a test accuracy \n",
        "# well above 80%.\n",
        "tm.model = best_model\n",
        "test_loss, test_acc = tm.evaluate(test_iterator)\n",
        "print(f'Test Loss: {test_loss:.3f} | Test Acc: {test_acc*100:.2f}%')"
      ],
      "execution_count": 0,
      "outputs": []
    }
  ]
}