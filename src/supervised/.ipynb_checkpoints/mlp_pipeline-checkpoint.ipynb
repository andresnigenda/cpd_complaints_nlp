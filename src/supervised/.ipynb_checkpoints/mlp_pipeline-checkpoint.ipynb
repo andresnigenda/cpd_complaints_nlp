{
 "cells": [
  {
   "cell_type": "code",
   "execution_count": 1,
   "metadata": {},
   "outputs": [
    {
     "data": {
      "application/vnd.jupyter.widget-view+json": {
       "model_id": "321cbc64336a481e8acd2be7318589e7",
       "version_major": 2,
       "version_minor": 0
      },
      "text/plain": [
       "VBox()"
      ]
     },
     "metadata": {},
     "output_type": "display_data"
    },
    {
     "name": "stdout",
     "output_type": "stream",
     "text": [
      "Starting Spark application\n"
     ]
    },
    {
     "data": {
      "text/html": [
       "<table>\n",
       "<tr><th>ID</th><th>YARN Application ID</th><th>Kind</th><th>State</th><th>Spark UI</th><th>Driver log</th><th>Current session?</th></tr><tr><td>11</td><td>application_1591548674320_0012</td><td>pyspark</td><td>idle</td><td><a target=\"_blank\" href=\"http://ip-172-31-21-182.ec2.internal:20888/proxy/application_1591548674320_0012/\">Link</a></td><td><a target=\"_blank\" href=\"http://ip-172-31-23-240.ec2.internal:8042/node/containerlogs/container_1591548674320_0012_01_000001/livy\">Link</a></td><td>✔</td></tr></table>"
      ],
      "text/plain": [
       "<IPython.core.display.HTML object>"
      ]
     },
     "metadata": {},
     "output_type": "display_data"
    },
    {
     "data": {
      "application/vnd.jupyter.widget-view+json": {
       "model_id": "",
       "version_major": 2,
       "version_minor": 0
      },
      "text/plain": [
       "FloatProgress(value=0.0, bar_style='info', description='Progress:', layout=Layout(height='25px', width='50%'),…"
      ]
     },
     "metadata": {},
     "output_type": "display_data"
    },
    {
     "name": "stdout",
     "output_type": "stream",
     "text": [
      "SparkSession available as 'spark'.\n"
     ]
    },
    {
     "data": {
      "application/vnd.jupyter.widget-view+json": {
       "model_id": "",
       "version_major": 2,
       "version_minor": 0
      },
      "text/plain": [
       "FloatProgress(value=0.0, bar_style='info', description='Progress:', layout=Layout(height='25px', width='50%'),…"
      ]
     },
     "metadata": {},
     "output_type": "display_data"
    },
    {
     "name": "stdout",
     "output_type": "stream",
     "text": [
      "Collecting pandas\n",
      "  Using cached https://files.pythonhosted.org/packages/a4/5f/1b6e0efab4bfb738478919d40b0e3e1a06e3d9996da45eb62a77e9a090d9/pandas-1.0.4-cp37-cp37m-manylinux1_x86_64.whl\n",
      "Requirement already satisfied: pytz>=2017.2 in /usr/local/lib/python3.7/site-packages (from pandas)\n",
      "Requirement already satisfied: numpy>=1.13.3 in /usr/local/lib64/python3.7/site-packages (from pandas)\n",
      "Collecting python-dateutil>=2.6.1 (from pandas)\n",
      "  Using cached https://files.pythonhosted.org/packages/d4/70/d60450c3dd48ef87586924207ae8907090de0b306af2bce5d134d78615cb/python_dateutil-2.8.1-py2.py3-none-any.whl\n",
      "Requirement already satisfied: six>=1.5 in /usr/local/lib/python3.7/site-packages (from python-dateutil>=2.6.1->pandas)\n",
      "Installing collected packages: python-dateutil, pandas\n",
      "Successfully installed pandas-1.0.4 python-dateutil-2.8.1\n",
      "\n",
      "Collecting s3fs\n",
      "  Using cached https://files.pythonhosted.org/packages/b8/e4/b8fc59248399d2482b39340ec9be4bb2493846ac23641b43115a7e5cd675/s3fs-0.4.2-py3-none-any.whl\n",
      "Collecting fsspec>=0.6.0 (from s3fs)\n",
      "  Using cached https://files.pythonhosted.org/packages/0f/31/f27a81686b2f1b2f6776bd5db10efc7d88f28a50e8888f55409ef6501a50/fsspec-0.7.4-py3-none-any.whl\n",
      "Collecting botocore>=1.12.91 (from s3fs)\n",
      "  Using cached https://files.pythonhosted.org/packages/7f/66/e0d17816e957ee440bd75b13a7f94ba973861a2af2c75f1722129fb881b5/botocore-1.16.24-py2.py3-none-any.whl\n",
      "Collecting urllib3<1.26,>=1.20; python_version != \"3.4\" (from botocore>=1.12.91->s3fs)\n",
      "  Using cached https://files.pythonhosted.org/packages/e1/e5/df302e8017440f111c11cc41a6b432838672f5a70aa29227bf58149dc72f/urllib3-1.25.9-py2.py3-none-any.whl\n",
      "Requirement already satisfied: python-dateutil<3.0.0,>=2.1 in /mnt/tmp/1591586410750-0/lib/python3.7/site-packages (from botocore>=1.12.91->s3fs)\n",
      "Requirement already satisfied: jmespath<1.0.0,>=0.7.1 in /usr/local/lib/python3.7/site-packages (from botocore>=1.12.91->s3fs)\n",
      "Collecting docutils<0.16,>=0.10 (from botocore>=1.12.91->s3fs)\n",
      "  Using cached https://files.pythonhosted.org/packages/22/cd/a6aa959dca619918ccb55023b4cb151949c64d4d5d55b3f4ffd7eee0c6e8/docutils-0.15.2-py3-none-any.whl\n",
      "Requirement already satisfied: six>=1.5 in /usr/local/lib/python3.7/site-packages (from python-dateutil<3.0.0,>=2.1->botocore>=1.12.91->s3fs)\n",
      "Installing collected packages: fsspec, urllib3, docutils, botocore, s3fs\n",
      "Successfully installed botocore-1.16.24 docutils-0.15.2 fsspec-0.7.4 s3fs-0.4.2 urllib3-1.25.9"
     ]
    }
   ],
   "source": [
    "# Install packages on the EMR cluster\n",
    "sc.install_pypi_package(\"pandas\")\n",
    "sc.install_pypi_package(\"s3fs\")"
   ]
  },
  {
   "cell_type": "code",
   "execution_count": 2,
   "metadata": {},
   "outputs": [
    {
     "data": {
      "application/vnd.jupyter.widget-view+json": {
       "model_id": "db1f1f49c36c4a9fa96e1f254477dbeb",
       "version_major": 2,
       "version_minor": 0
      },
      "text/plain": [
       "VBox()"
      ]
     },
     "metadata": {},
     "output_type": "display_data"
    },
    {
     "data": {
      "application/vnd.jupyter.widget-view+json": {
       "model_id": "",
       "version_major": 2,
       "version_minor": 0
      },
      "text/plain": [
       "FloatProgress(value=0.0, bar_style='info', description='Progress:', layout=Layout(height='25px', width='50%'),…"
      ]
     },
     "metadata": {},
     "output_type": "display_data"
    }
   ],
   "source": [
    "import random\n",
    "import pyspark\n",
    "import pandas as pd\n",
    "import numpy as np\n",
    "import s3fs\n",
    "from pyspark.sql import SparkSession\n",
    "from pyspark.sql.functions import when\n",
    "from pyspark.ml.feature import Tokenizer, StopWordsRemover, Word2Vec\n",
    "from pyspark.ml import Pipeline\n",
    "from pyspark.ml.classification import MultilayerPerceptronClassifier\n",
    "import pyspark.ml.evaluation as evals\n",
    "import pyspark.ml.tuning as tune"
   ]
  },
  {
   "cell_type": "markdown",
   "metadata": {},
   "source": [
    "First, we read the data from an AWS S3 Bucket. The data frame contains 369 observations."
   ]
  },
  {
   "cell_type": "code",
   "execution_count": 3,
   "metadata": {},
   "outputs": [
    {
     "data": {
      "application/vnd.jupyter.widget-view+json": {
       "model_id": "187a0e59bae94898a016529e52041e3c",
       "version_major": 2,
       "version_minor": 0
      },
      "text/plain": [
       "VBox()"
      ]
     },
     "metadata": {},
     "output_type": "display_data"
    },
    {
     "data": {
      "application/vnd.jupyter.widget-view+json": {
       "model_id": "",
       "version_major": 2,
       "version_minor": 0
      },
      "text/plain": [
       "FloatProgress(value=0.0, bar_style='info', description='Progress:', layout=Layout(height='25px', width='50%'),…"
      ]
     },
     "metadata": {},
     "output_type": "display_data"
    },
    {
     "name": "stdout",
     "output_type": "stream",
     "text": [
      "root\n",
      " |-- text_content: string (nullable = true)\n",
      " |-- tasers_baton_aggressive_physical_touch_gun: integer (nullable = true)\n",
      " |-- trespass_robbery: integer (nullable = true)\n",
      " |-- racial_slurs_xenophobic_remarks_: integer (nullable = true)\n",
      " |-- planting_drug_guns: double (nullable = true)"
     ]
    }
   ],
   "source": [
    "data = spark.read.csv('s3://cpdp-complaints/plain_text.csv',\n",
    "                      header=True, \n",
    "                      inferSchema=True,\n",
    "                      multiLine=True)\n",
    "data = data.filter(data.text_content.isNotNull())\n",
    "data.printSchema()"
   ]
  },
  {
   "cell_type": "code",
   "execution_count": 4,
   "metadata": {},
   "outputs": [
    {
     "data": {
      "application/vnd.jupyter.widget-view+json": {
       "model_id": "6a23d7477f0047c5ab310cd714ee49f5",
       "version_major": 2,
       "version_minor": 0
      },
      "text/plain": [
       "VBox()"
      ]
     },
     "metadata": {},
     "output_type": "display_data"
    },
    {
     "data": {
      "application/vnd.jupyter.widget-view+json": {
       "model_id": "",
       "version_major": 2,
       "version_minor": 0
      },
      "text/plain": [
       "FloatProgress(value=0.0, bar_style='info', description='Progress:', layout=Layout(height='25px', width='50%'),…"
      ]
     },
     "metadata": {},
     "output_type": "display_data"
    },
    {
     "name": "stdout",
     "output_type": "stream",
     "text": [
      "369"
     ]
    }
   ],
   "source": [
    "data.count()"
   ]
  },
  {
   "cell_type": "markdown",
   "metadata": {},
   "source": [
    "Create functions that tokenizes the text, removes stop words, and applies a word2vec embedding."
   ]
  },
  {
   "cell_type": "code",
   "execution_count": 5,
   "metadata": {},
   "outputs": [
    {
     "data": {
      "application/vnd.jupyter.widget-view+json": {
       "model_id": "108fb0bad76f4e30baacbca35d8baeab",
       "version_major": 2,
       "version_minor": 0
      },
      "text/plain": [
       "VBox()"
      ]
     },
     "metadata": {},
     "output_type": "display_data"
    },
    {
     "data": {
      "application/vnd.jupyter.widget-view+json": {
       "model_id": "",
       "version_major": 2,
       "version_minor": 0
      },
      "text/plain": [
       "FloatProgress(value=0.0, bar_style='info', description='Progress:', layout=Layout(height='25px', width='50%'),…"
      ]
     },
     "metadata": {},
     "output_type": "display_data"
    }
   ],
   "source": [
    "def create_piped_data(target_variable, data):\n",
    "    # Create Label\n",
    "    model_data = (data.withColumn('label',\n",
    "                                  when(data[target_variable]\n",
    "                                       .isNull(), 0)\n",
    "                                  .otherwise(data[target_variable])\n",
    "                                  .cast('integer'))\n",
    "                  .select('text_content', 'label'))\n",
    "    # Create tokenizer\n",
    "    tokenizer = Tokenizer(inputCol='text_content', outputCol='tokens')\n",
    "    # Define stop words remover\n",
    "    stopwords = StopWordsRemover.loadDefaultStopWords('english')\n",
    "    stopwords.append(' ')\n",
    "    stopwords.append('')\n",
    "    remover = StopWordsRemover(inputCol=\"tokens\", outputCol=\"filtered\",\n",
    "                               stopWords=stopwords)\n",
    "    # Create word2vec\n",
    "    word2vec = Word2Vec(inputCol=\"filtered\", outputCol=\"features\",\n",
    "                        vectorSize=300, minCount=5)\n",
    "    # Create pipeline\n",
    "    stages = [tokenizer, remover, word2vec]\n",
    "    pipeline = Pipeline(stages=stages)\n",
    "    \n",
    "    # Transform data\n",
    "    piped_data = pipeline.fit(data).transform(model_data)\n",
    "    \n",
    "    # Split data\n",
    "    training, test = piped_data.randomSplit([0.6, 0.4])\n",
    "    \n",
    "    return training, test\n"
   ]
  },
  {
   "cell_type": "markdown",
   "metadata": {},
   "source": [
    "Create a function that trains a variety of multi-layer perceptrons with different number of layers and returns the best performing model."
   ]
  },
  {
   "cell_type": "code",
   "execution_count": 6,
   "metadata": {},
   "outputs": [
    {
     "data": {
      "application/vnd.jupyter.widget-view+json": {
       "model_id": "6b97a17a27b64e81bcb1d867080d0832",
       "version_major": 2,
       "version_minor": 0
      },
      "text/plain": [
       "VBox()"
      ]
     },
     "metadata": {},
     "output_type": "display_data"
    },
    {
     "data": {
      "application/vnd.jupyter.widget-view+json": {
       "model_id": "",
       "version_major": 2,
       "version_minor": 0
      },
      "text/plain": [
       "FloatProgress(value=0.0, bar_style='info', description='Progress:', layout=Layout(height='25px', width='50%'),…"
      ]
     },
     "metadata": {},
     "output_type": "display_data"
    }
   ],
   "source": [
    "def train_model(training_data):\n",
    "    # Create a LogisticRegression Estimator\n",
    "    mlp = MultilayerPerceptronClassifier()\n",
    "\n",
    "    # Create an evaluator \n",
    "    evaluator = evals.MulticlassClassificationEvaluator(metricName='accuracy')\n",
    "    \n",
    "    # Create the parameter grid\n",
    "    grid = tune.ParamGridBuilder()\n",
    "\n",
    "    # Add the hyperparameter\n",
    "    grid = grid.addGrid(mlp.layers, [[300, 100, 2], [300, 50, 2]])\n",
    "\n",
    "    # Build the grid\n",
    "    grid = grid.build()\n",
    "    \n",
    "    # Create the CrossValidator\n",
    "    cv = tune.CrossValidator(estimator=mlp,\n",
    "                             estimatorParamMaps=grid,\n",
    "                             evaluator=evaluator)\n",
    "    # Fit cross validation models\n",
    "    models = cv.fit(training_data)\n",
    "\n",
    "    # Extract the best model\n",
    "    best_mlp = models.bestModel\n",
    "    \n",
    "    return  best_mlp, evaluator"
   ]
  },
  {
   "cell_type": "markdown",
   "metadata": {},
   "source": [
    "We then train models for each one of the four complaint categories of interest and store the results in a dataframe. We then save the results of this dataframe to an s3 bucket."
   ]
  },
  {
   "cell_type": "code",
   "execution_count": 7,
   "metadata": {},
   "outputs": [
    {
     "data": {
      "application/vnd.jupyter.widget-view+json": {
       "model_id": "46ecf31c41c142cd9fb1cdc9810fc361",
       "version_major": 2,
       "version_minor": 0
      },
      "text/plain": [
       "VBox()"
      ]
     },
     "metadata": {},
     "output_type": "display_data"
    },
    {
     "data": {
      "application/vnd.jupyter.widget-view+json": {
       "model_id": "",
       "version_major": 2,
       "version_minor": 0
      },
      "text/plain": [
       "FloatProgress(value=0.0, bar_style='info', description='Progress:', layout=Layout(height='25px', width='50%'),…"
      ]
     },
     "metadata": {},
     "output_type": "display_data"
    }
   ],
   "source": [
    "results = pd.DataFrame(columns = ['category', 'layers', 'model_test_accuraccy'])"
   ]
  },
  {
   "cell_type": "code",
   "execution_count": 8,
   "metadata": {},
   "outputs": [
    {
     "data": {
      "application/vnd.jupyter.widget-view+json": {
       "model_id": "c0fbf31bd377485da2277340bdaec62a",
       "version_major": 2,
       "version_minor": 0
      },
      "text/plain": [
       "VBox()"
      ]
     },
     "metadata": {},
     "output_type": "display_data"
    },
    {
     "data": {
      "application/vnd.jupyter.widget-view+json": {
       "model_id": "",
       "version_major": 2,
       "version_minor": 0
      },
      "text/plain": [
       "FloatProgress(value=0.0, bar_style='info', description='Progress:', layout=Layout(height='25px', width='50%'),…"
      ]
     },
     "metadata": {},
     "output_type": "display_data"
    }
   ],
   "source": [
    "train, test =  create_piped_data('tasers_baton_aggressive_physical_touch_gun', data)\n",
    "best_model, evaluator = train_model(train)\n",
    "test_results = best_model.transform(test)\n",
    "results = results.append({\n",
    "    'category': 'tasers_baton_aggressive_physical_touch_gun',\n",
    "    'layers': best_model.layers,\n",
    "    'model_test_accuraccy': evaluator.evaluate(test_results)        \n",
    "}, ignore_index=True)"
   ]
  },
  {
   "cell_type": "code",
   "execution_count": 9,
   "metadata": {},
   "outputs": [
    {
     "data": {
      "application/vnd.jupyter.widget-view+json": {
       "model_id": "7b5ee45bfbdf4e47b4a3113e0bf7107c",
       "version_major": 2,
       "version_minor": 0
      },
      "text/plain": [
       "VBox()"
      ]
     },
     "metadata": {},
     "output_type": "display_data"
    },
    {
     "data": {
      "application/vnd.jupyter.widget-view+json": {
       "model_id": "",
       "version_major": 2,
       "version_minor": 0
      },
      "text/plain": [
       "FloatProgress(value=0.0, bar_style='info', description='Progress:', layout=Layout(height='25px', width='50%'),…"
      ]
     },
     "metadata": {},
     "output_type": "display_data"
    },
    {
     "name": "stdout",
     "output_type": "stream",
     "text": [
      "[300, 50, 2]"
     ]
    }
   ],
   "source": [
    "best_model.layers\n"
   ]
  },
  {
   "cell_type": "code",
   "execution_count": 10,
   "metadata": {},
   "outputs": [
    {
     "data": {
      "application/vnd.jupyter.widget-view+json": {
       "model_id": "5e6b51d0c6d24984ab36cbf5463751a3",
       "version_major": 2,
       "version_minor": 0
      },
      "text/plain": [
       "VBox()"
      ]
     },
     "metadata": {},
     "output_type": "display_data"
    },
    {
     "data": {
      "application/vnd.jupyter.widget-view+json": {
       "model_id": "",
       "version_major": 2,
       "version_minor": 0
      },
      "text/plain": [
       "FloatProgress(value=0.0, bar_style='info', description='Progress:', layout=Layout(height='25px', width='50%'),…"
      ]
     },
     "metadata": {},
     "output_type": "display_data"
    }
   ],
   "source": [
    "train, test =  create_piped_data('trespass_robbery', data)\n",
    "best_model, evaluator = train_model(train)\n",
    "test_results = best_model.transform(test)\n",
    "results = results.append({\n",
    "    'category': 'trespass_robbery',\n",
    "    'layers': best_model.layers,\n",
    "    'model_test_accuraccy': evaluator.evaluate(test_results)        \n",
    "}, ignore_index=True)"
   ]
  },
  {
   "cell_type": "code",
   "execution_count": 11,
   "metadata": {},
   "outputs": [
    {
     "data": {
      "application/vnd.jupyter.widget-view+json": {
       "model_id": "7f73107df1ee45ebaf0f41fcd4fa4f17",
       "version_major": 2,
       "version_minor": 0
      },
      "text/plain": [
       "VBox()"
      ]
     },
     "metadata": {},
     "output_type": "display_data"
    },
    {
     "data": {
      "application/vnd.jupyter.widget-view+json": {
       "model_id": "",
       "version_major": 2,
       "version_minor": 0
      },
      "text/plain": [
       "FloatProgress(value=0.0, bar_style='info', description='Progress:', layout=Layout(height='25px', width='50%'),…"
      ]
     },
     "metadata": {},
     "output_type": "display_data"
    }
   ],
   "source": [
    "train, test =  create_piped_data('racial_slurs_xenophobic_remarks_', data)\n",
    "best_model, evaluator = train_model(train)\n",
    "test_results = best_model.transform(test)\n",
    "results = results.append({\n",
    "    'category': 'racial_slurs_xenophobic_remarks_',\n",
    "    'layers': best_model.layers,\n",
    "    'model_test_accuraccy': evaluator.evaluate(test_results)        \n",
    "}, ignore_index=True)"
   ]
  },
  {
   "cell_type": "code",
   "execution_count": 12,
   "metadata": {},
   "outputs": [
    {
     "data": {
      "application/vnd.jupyter.widget-view+json": {
       "model_id": "34e87d9dc1de413a9549a75ecfe7aaf2",
       "version_major": 2,
       "version_minor": 0
      },
      "text/plain": [
       "VBox()"
      ]
     },
     "metadata": {},
     "output_type": "display_data"
    },
    {
     "data": {
      "application/vnd.jupyter.widget-view+json": {
       "model_id": "",
       "version_major": 2,
       "version_minor": 0
      },
      "text/plain": [
       "FloatProgress(value=0.0, bar_style='info', description='Progress:', layout=Layout(height='25px', width='50%'),…"
      ]
     },
     "metadata": {},
     "output_type": "display_data"
    }
   ],
   "source": [
    "train, test =  create_piped_data('planting_drug_guns', data)\n",
    "best_model, evaluator = train_model(train)\n",
    "test_results = best_model.transform(test)\n",
    "results = results.append({\n",
    "    'category': 'planting_drug_guns',\n",
    "    'layers': best_model.layers,\n",
    "    'model_test_accuraccy': evaluator.evaluate(test_results)        \n",
    "}, ignore_index=True)"
   ]
  },
  {
   "cell_type": "code",
   "execution_count": 13,
   "metadata": {},
   "outputs": [
    {
     "data": {
      "application/vnd.jupyter.widget-view+json": {
       "model_id": "ccb24fdbeea74221ba3dbbff9db5bdb7",
       "version_major": 2,
       "version_minor": 0
      },
      "text/plain": [
       "VBox()"
      ]
     },
     "metadata": {},
     "output_type": "display_data"
    },
    {
     "data": {
      "application/vnd.jupyter.widget-view+json": {
       "model_id": "",
       "version_major": 2,
       "version_minor": 0
      },
      "text/plain": [
       "FloatProgress(value=0.0, bar_style='info', description='Progress:', layout=Layout(height='25px', width='50%'),…"
      ]
     },
     "metadata": {},
     "output_type": "display_data"
    }
   ],
   "source": [
    "results.to_csv('s3n://cpdp-complaints/mlp_results.csv')"
   ]
  }
 ],
 "metadata": {
  "kernelspec": {
   "display_name": "PySpark",
   "language": "",
   "name": "pysparkkernel"
  },
  "language_info": {
   "codemirror_mode": {
    "name": "python",
    "version": 3
   },
   "mimetype": "text/x-python",
   "name": "pyspark",
   "pygments_lexer": "python3"
  }
 },
 "nbformat": 4,
 "nbformat_minor": 4
}
