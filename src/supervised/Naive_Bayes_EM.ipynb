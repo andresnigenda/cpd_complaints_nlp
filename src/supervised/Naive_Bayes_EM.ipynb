{
  "nbformat": 4,
  "nbformat_minor": 0,
  "metadata": {
    "colab": {
      "name": "Naive Bayes EM.ipynb",
      "provenance": [],
      "collapsed_sections": [],
      "mount_file_id": "132zMNaPJaxcAXhe6RnenE93Fc_N9fm_o",
      "authorship_tag": "ABX9TyP1dR6O33JWwaId9dqUG5mv",
      "include_colab_link": true
    },
    "kernelspec": {
      "name": "python3",
      "display_name": "Python 3"
    }
  },
  "cells": [
    {
      "cell_type": "markdown",
      "metadata": {
        "id": "view-in-github",
        "colab_type": "text"
      },
      "source": [
        "<a href=\"https://colab.research.google.com/github/andresnigenda/cpd_complaints_nlp/blob/krista/Naive_Bayes_EM.ipynb\" target=\"_parent\"><img src=\"https://colab.research.google.com/assets/colab-badge.svg\" alt=\"Open In Colab\"/></a>"
      ]
    },
    {
      "cell_type": "code",
      "metadata": {
        "id": "JBcs7e9CSjgK",
        "colab_type": "code",
        "colab": {}
      },
      "source": [
        "import numpy as np\n",
        "import random as rnd\n",
        "import pandas as pd\n",
        "\n",
        "from scipy.sparse import csr_matrix\n",
        "from sklearn.datasets import fetch_20newsgroups\n",
        "from sklearn.model_selection import train_test_split\n",
        "from sklearn.feature_extraction.text import TfidfVectorizer\n",
        "from sklearn.model_selection import train_test_split\n",
        "from sklearn.naive_bayes import BernoulliNB\n",
        "from sklearn import metrics\n",
        "from pprint import pprint\n",
        "\n",
        "import regex as re\n",
        "import random"
      ],
      "execution_count": 0,
      "outputs": []
    },
    {
      "cell_type": "code",
      "metadata": {
        "id": "a-HTvqi9s-e0",
        "colab_type": "code",
        "colab": {}
      },
      "source": [
        "text = pd.read_csv(\"training_with_text.csv\")"
      ],
      "execution_count": 0,
      "outputs": []
    },
    {
      "cell_type": "code",
      "metadata": {
        "id": "iueUTEChtIDX",
        "colab_type": "code",
        "colab": {}
      },
      "source": [
        "text = text.loc[pd.notna(text.text_content)]"
      ],
      "execution_count": 0,
      "outputs": []
    },
    {
      "cell_type": "code",
      "metadata": {
        "id": "nrv7wAfhLybL",
        "colab_type": "code",
        "colab": {}
      },
      "source": [
        "def clean_text(row):\n",
        "  no_n = row['text_content'].replace('\\n', ' ')\n",
        "  no_special = re.sub(\"[^a-zA-Z0-9]+\", ' ', no_n)\n",
        "  return re.sub('\\d', ' ', no_special)\n",
        "text['text_content'] = text.apply(lambda x: clean_text(x), axis=1)"
      ],
      "execution_count": 0,
      "outputs": []
    },
    {
      "cell_type": "markdown",
      "metadata": {
        "id": "KU7r5YoJ9ko3",
        "colab_type": "text"
      },
      "source": [
        "## Train test split and convert to batch"
      ]
    },
    {
      "cell_type": "markdown",
      "metadata": {
        "id": "W0crh-DyCytU",
        "colab_type": "text"
      },
      "source": [
        "## Vectorizers and training"
      ]
    },
    {
      "cell_type": "code",
      "metadata": {
        "id": "YTkienIeAhfE",
        "colab_type": "code",
        "colab": {}
      },
      "source": [
        "data = text['text_content']\n",
        "labels = text['racial_slurs_xenophobic_remarks_']"
      ],
      "execution_count": 0,
      "outputs": []
    },
    {
      "cell_type": "code",
      "metadata": {
        "id": "EQZ2Xn-NC0o5",
        "colab_type": "code",
        "colab": {}
      },
      "source": [
        "vectorizer = TfidfVectorizer(stop_words='english', min_df=3, max_df=0.9)\n",
        "train_vec = vectorizer.fit_transform(data)\n",
        "test_vec = vectorizer.transform(X_test)"
      ],
      "execution_count": 0,
      "outputs": []
    },
    {
      "cell_type": "code",
      "metadata": {
        "id": "4ikodvWmCRY8",
        "colab_type": "code",
        "colab": {}
      },
      "source": [
        "X_train, X_test, y_train, y_test = train_test_split(train_vec, np.array(labels), test_size=0.33, random_state=42)"
      ],
      "execution_count": 0,
      "outputs": []
    },
    {
      "cell_type": "code",
      "metadata": {
        "id": "moJ9tw6QJfNJ",
        "colab_type": "code",
        "colab": {
          "base_uri": "https://localhost:8080/",
          "height": 34
        },
        "outputId": "5fdb8898-fef4-47b2-8bb2-6d27180b2451"
      },
      "source": [
        "clf = BernoulliNB(alpha=1e-8)\n",
        "clf.fit(X_train, y_train)"
      ],
      "execution_count": 84,
      "outputs": [
        {
          "output_type": "execute_result",
          "data": {
            "text/plain": [
              "BernoulliNB(alpha=1e-08, binarize=0.0, class_prior=None, fit_prior=True)"
            ]
          },
          "metadata": {
            "tags": []
          },
          "execution_count": 84
        }
      ]
    },
    {
      "cell_type": "code",
      "metadata": {
        "id": "eGBonypQUonM",
        "colab_type": "code",
        "colab": {
          "base_uri": "https://localhost:8080/",
          "height": 230
        },
        "outputId": "197847a8-0563-4634-9f41-dd48ae2e6977"
      },
      "source": [
        "pred = clf.predict(test_vec)\n",
        "print(metrics.classification_report(y_test, pred))"
      ],
      "execution_count": 85,
      "outputs": [
        {
          "output_type": "stream",
          "text": [
            "              precision    recall  f1-score   support\n",
            "\n",
            "           0       0.94      1.00      0.97       115\n",
            "           1       0.00      0.00      0.00         7\n",
            "\n",
            "    accuracy                           0.94       122\n",
            "   macro avg       0.47      0.50      0.49       122\n",
            "weighted avg       0.89      0.94      0.91       122\n",
            "\n"
          ],
          "name": "stdout"
        },
        {
          "output_type": "stream",
          "text": [
            "/usr/local/lib/python3.6/dist-packages/sklearn/metrics/_classification.py:1272: UndefinedMetricWarning: Precision and F-score are ill-defined and being set to 0.0 in labels with no predicted samples. Use `zero_division` parameter to control this behavior.\n",
            "  _warn_prf(average, modifier, msg_start, len(result))\n"
          ],
          "name": "stderr"
        }
      ]
    },
    {
      "cell_type": "code",
      "metadata": {
        "id": "c9Cd8Y8tWLQl",
        "colab_type": "code",
        "colab": {
          "base_uri": "https://localhost:8080/",
          "height": 52
        },
        "outputId": "69807863-6095-4942-c83e-17800e26b842"
      },
      "source": [
        "feature_names = np.asarray(vectorizer.get_feature_names())\n",
        "feature_names[np.argsort(clf.coef_[0])[-10:]]"
      ],
      "execution_count": 86,
      "outputs": [
        {
          "output_type": "execute_result",
          "data": {
            "text/plain": [
              "array(['district', 'sustained', 'rank', 'allegation', 'violation', 'duty',\n",
              "       'incident', 'used', 'action', 'location'], dtype='<U26')"
            ]
          },
          "metadata": {
            "tags": []
          },
          "execution_count": 86
        }
      ]
    }
  ]
}